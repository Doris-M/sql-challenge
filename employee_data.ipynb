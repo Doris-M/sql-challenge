{
 "cells": [
  {
   "cell_type": "code",
   "execution_count": 1,
   "metadata": {},
   "outputs": [],
   "source": [
    "# Pandas\n",
    "import pandas as pd\n",
    "\n",
    "# Matplotlib\n",
    "import matplotlib.pyplot as plt\n",
    "\n",
    "# SQL Alchemy\n",
    "from sqlalchemy import create_engine\n",
    "\n",
    "# Postgres DB connection\n",
    "from config import postgresqlDB\n",
    "\n",
    "# engine\n",
    "engine = create_engine(postgresqlDB)\n",
    "connection = engine.connect()\n"
   ]
  },
  {
   "cell_type": "code",
   "execution_count": 2,
   "metadata": {},
   "outputs": [],
   "source": [
    "# tables to a dataframe\n",
    "titles    = pd.read_sql(\"Select * From titles\", connection)\n",
    "employees = pd.read_sql(\"Select * From employees\", connection)\n",
    "salaries  = pd.read_sql(\"Select * From salaries\", connection)\n"
   ]
  },
  {
   "cell_type": "code",
   "execution_count": 3,
   "metadata": {},
   "outputs": [
    {
     "data": {
      "text/html": [
       "<div>\n",
       "<style scoped>\n",
       "    .dataframe tbody tr th:only-of-type {\n",
       "        vertical-align: middle;\n",
       "    }\n",
       "\n",
       "    .dataframe tbody tr th {\n",
       "        vertical-align: top;\n",
       "    }\n",
       "\n",
       "    .dataframe thead th {\n",
       "        text-align: right;\n",
       "    }\n",
       "</style>\n",
       "<table border=\"1\" class=\"dataframe\">\n",
       "  <thead>\n",
       "    <tr style=\"text-align: right;\">\n",
       "      <th></th>\n",
       "      <th>max</th>\n",
       "    </tr>\n",
       "  </thead>\n",
       "  <tbody>\n",
       "    <tr>\n",
       "      <th>0</th>\n",
       "      <td>129492.0</td>\n",
       "    </tr>\n",
       "  </tbody>\n",
       "</table>\n",
       "</div>"
      ],
      "text/plain": [
       "        max\n",
       "0  129492.0"
      ]
     },
     "execution_count": 3,
     "metadata": {},
     "output_type": "execute_result"
    }
   ],
   "source": [
    "# get the maximum salary to set the limits of  x values\n",
    "max_salary =  pd.read_sql(\"Select max(salary) From salaries\", connection)\n",
    "max_salary\n"
   ]
  },
  {
   "cell_type": "code",
   "execution_count": 4,
   "metadata": {},
   "outputs": [
    {
     "data": {
      "text/html": [
       "<div>\n",
       "<style scoped>\n",
       "    .dataframe tbody tr th:only-of-type {\n",
       "        vertical-align: middle;\n",
       "    }\n",
       "\n",
       "    .dataframe tbody tr th {\n",
       "        vertical-align: top;\n",
       "    }\n",
       "\n",
       "    .dataframe thead th {\n",
       "        text-align: right;\n",
       "    }\n",
       "</style>\n",
       "<table border=\"1\" class=\"dataframe\">\n",
       "  <thead>\n",
       "    <tr style=\"text-align: right;\">\n",
       "      <th></th>\n",
       "      <th>min</th>\n",
       "    </tr>\n",
       "  </thead>\n",
       "  <tbody>\n",
       "    <tr>\n",
       "      <th>0</th>\n",
       "      <td>40000.0</td>\n",
       "    </tr>\n",
       "  </tbody>\n",
       "</table>\n",
       "</div>"
      ],
      "text/plain": [
       "       min\n",
       "0  40000.0"
      ]
     },
     "execution_count": 4,
     "metadata": {},
     "output_type": "execute_result"
    }
   ],
   "source": [
    "# get the minimum salary to set the limits of  x values\n",
    "min_salary =  pd.read_sql(\"Select min(salary) From salaries\", connection)\n",
    "min_salary\n"
   ]
  },
  {
   "cell_type": "markdown",
   "metadata": {},
   "source": [
    "## Histogram to visualize the most common salary ranges for employees."
   ]
  },
  {
   "cell_type": "code",
   "execution_count": 6,
   "metadata": {},
   "outputs": [
    {
     "data": {
      "image/png": "[encoded data removed]",
      "text/plain": [
       "<Figure size 720x432 with 1 Axes>"
      ]
     },
     "metadata": {},
     "output_type": "display_data"
    }
   ],
   "source": [
    "import numpy as np\n",
    "plt.style.use('seaborn') \n",
    "ax = salaries.hist(column='salary', color='#A0E8AF', figsize=[10, 6])\n",
    "\n",
    "# labels and title\n",
    "plt.xlabel(\"Salary range\", fontsize=10)\n",
    "plt.ylabel(\"Quantity\",fontsize=10)\n",
    "plt.title('Most common salary ranges for employees',fontsize=14)\n",
    "\n",
    "# limit x values\n",
    "plt.xlim(40000,130000)\n",
    "\n",
    "plt.savefig('../sql-challenge/Images/SalaryHist.png')"
   ]
  },
  {
   "cell_type": "markdown",
   "metadata": {},
   "source": [
    "## Create a Bar chart of average salary by title"
   ]
  },
  {
   "cell_type": "code",
   "execution_count": 8,
   "metadata": {},
   "outputs": [],
   "source": [
    "# Dataframe of salaries by title\n",
    "salaries_avg_title = pd.read_sql (  \"     Select t.title_description title,\" \n",
    "                                    \"            round(avg(s.salary),2) avg_salary \"\n",
    "                                    \"       from salaries s\"\n",
    "                                    \" inner join employees e on e.emp_id = s.emp_id\"\n",
    "                                    \" inner join titles t on t.title_id = emp_title_id\"\n",
    "                                    \"   group by 1\"\n",
    "                                    \"   order by 2 desc\", connection )\n",
    "# set the index (title)\n",
    "salaries_avg_title = salaries_avg_title.set_index('title')\n"
   ]
  },
  {
   "cell_type": "code",
   "execution_count": 9,
   "metadata": {},
   "outputs": [
    {
     "data": {
      "text/html": [
       "<div>\n",
       "<style scoped>\n",
       "    .dataframe tbody tr th:only-of-type {\n",
       "        vertical-align: middle;\n",
       "    }\n",
       "\n",
       "    .dataframe tbody tr th {\n",
       "        vertical-align: top;\n",
       "    }\n",
       "\n",
       "    .dataframe thead th {\n",
       "        text-align: right;\n",
       "    }\n",
       "</style>\n",
       "<table border=\"1\" class=\"dataframe\">\n",
       "  <thead>\n",
       "    <tr style=\"text-align: right;\">\n",
       "      <th></th>\n",
       "      <th>avg_salary</th>\n",
       "    </tr>\n",
       "    <tr>\n",
       "      <th>title</th>\n",
       "      <th></th>\n",
       "    </tr>\n",
       "  </thead>\n",
       "  <tbody>\n",
       "    <tr>\n",
       "      <th>Senior Staff</th>\n",
       "      <td>58550.17</td>\n",
       "    </tr>\n",
       "    <tr>\n",
       "      <th>Staff</th>\n",
       "      <td>58465.38</td>\n",
       "    </tr>\n",
       "    <tr>\n",
       "      <th>Manager</th>\n",
       "      <td>51531.04</td>\n",
       "    </tr>\n",
       "    <tr>\n",
       "      <th>Technique Leader</th>\n",
       "      <td>48582.90</td>\n",
       "    </tr>\n",
       "    <tr>\n",
       "      <th>Assistant Engineer</th>\n",
       "      <td>48564.43</td>\n",
       "    </tr>\n",
       "    <tr>\n",
       "      <th>Engineer</th>\n",
       "      <td>48535.34</td>\n",
       "    </tr>\n",
       "    <tr>\n",
       "      <th>Senior Engineer</th>\n",
       "      <td>48506.80</td>\n",
       "    </tr>\n",
       "  </tbody>\n",
       "</table>\n",
       "</div>"
      ],
      "text/plain": [
       "                    avg_salary\n",
       "title                         \n",
       "Senior Staff          58550.17\n",
       "Staff                 58465.38\n",
       "Manager               51531.04\n",
       "Technique Leader      48582.90\n",
       "Assistant Engineer    48564.43\n",
       "Engineer              48535.34\n",
       "Senior Engineer       48506.80"
      ]
     },
     "execution_count": 9,
     "metadata": {},
     "output_type": "execute_result"
    }
   ],
   "source": [
    "# salary by title\n",
    "salaries_avg_title"
   ]
  },
  {
   "cell_type": "code",
   "execution_count": 11,
   "metadata": {},
   "outputs": [
    {
     "data": {
      "image/png": "[encoded data removed]",
      "text/plain": [
       "<Figure size 720x432 with 1 Axes>"
      ]
     },
     "metadata": {},
     "output_type": "display_data"
    }
   ],
   "source": [
    " # Draw a bar chart\n",
    "plt.style.use('seaborn') \n",
    "ax = salaries_avg_title.plot(kind=\"bar\",color = 'blue',alpha=0.5, align=\"center\", legend = False, ylim=(30000,60000),\n",
    "                             figsize=[10, 6])\n",
    "\n",
    "# formatted title \n",
    "plt.title ('Average salary by title')\n",
    "\n",
    "\n",
    "for p in ax.patches:\n",
    "    label_position = p.get_height()/1.01\n",
    "    \n",
    "    ax.annotate(format(p.get_height(), '.0f'), \n",
    "                   (p.get_x() + p.get_width() / 2., label_position), \n",
    "                   ha = 'center', va = 'center', \n",
    "                   xytext = (0,12),\n",
    "                   textcoords = 'offset points')\n",
    "    \n",
    "plt.ylabel('Average Salary')\n",
    "plt.xlabel('Title')\n",
    "plt.savefig('../sql-challenge/Images/AvgSalaryTitle.png')\n",
    "plt.show()\n",
    "\n"
   ]
  },
  {
   "cell_type": "markdown",
   "metadata": {},
   "source": [
    "## Bonus- Chart - Salary ranges for employees "
   ]
  },
  {
   "cell_type": "code",
   "execution_count": 13,
   "metadata": {},
   "outputs": [],
   "source": [
    "salaries_count_df = pd.read_sql(\"select '40k-49k' as range, count(emp_id) from salaries where salary between 40000 and 49999 union \"\n",
    "                               \" select '50k-59k' as range, count(emp_id) from salaries where salary between 50000 and 59999 union \"\n",
    "                               \" select '60k-69k' as range, count(emp_id) from salaries where salary between 60000 and 69999 union \"\n",
    "                               \" select '70k-79k' as range, count(emp_id) from salaries where salary between 70000 and 79999 union \"\n",
    "                               \" select '80k-89k' as range, count(emp_id) from salaries where salary between 80000 and 89999 union \"\n",
    "                               \" select '90k-99k' as range, count(emp_id) from salaries where salary between 90000 and 99999 union \"\n",
    "                               \" select '100k-109k' as range, count(emp_id) from salaries where salary between 100000 and 109999 union \"\n",
    "                               \" select '110k-119k' as range, count(emp_id) from salaries where salary between 110000 and 119999 union \"\n",
    "                               \" select '120k-130k' as range, count(emp_id) from salaries where salary between 120000 and 130000\"\n",
    "                               \" order by 2 desc\"\n",
    "                               , connection)\n",
    "# set the index (range)\n",
    "salaries_count_df = salaries_count_df.set_index('range')"
   ]
  },
  {
   "cell_type": "code",
   "execution_count": 14,
   "metadata": {},
   "outputs": [
    {
     "data": {
      "text/html": [
       "<div>\n",
       "<style scoped>\n",
       "    .dataframe tbody tr th:only-of-type {\n",
       "        vertical-align: middle;\n",
       "    }\n",
       "\n",
       "    .dataframe tbody tr th {\n",
       "        vertical-align: top;\n",
       "    }\n",
       "\n",
       "    .dataframe thead th {\n",
       "        text-align: right;\n",
       "    }\n",
       "</style>\n",
       "<table border=\"1\" class=\"dataframe\">\n",
       "  <thead>\n",
       "    <tr style=\"text-align: right;\">\n",
       "      <th></th>\n",
       "      <th>count</th>\n",
       "    </tr>\n",
       "    <tr>\n",
       "      <th>range</th>\n",
       "      <th></th>\n",
       "    </tr>\n",
       "  </thead>\n",
       "  <tbody>\n",
       "    <tr>\n",
       "      <th>40k-49k</th>\n",
       "      <td>158465</td>\n",
       "    </tr>\n",
       "    <tr>\n",
       "      <th>50k-59k</th>\n",
       "      <td>57915</td>\n",
       "    </tr>\n",
       "    <tr>\n",
       "      <th>60k-69k</th>\n",
       "      <td>41413</td>\n",
       "    </tr>\n",
       "    <tr>\n",
       "      <th>70k-79k</th>\n",
       "      <td>24814</td>\n",
       "    </tr>\n",
       "    <tr>\n",
       "      <th>80k-89k</th>\n",
       "      <td>11845</td>\n",
       "    </tr>\n",
       "    <tr>\n",
       "      <th>90k-99k</th>\n",
       "      <td>4284</td>\n",
       "    </tr>\n",
       "    <tr>\n",
       "      <th>100k-109k</th>\n",
       "      <td>1069</td>\n",
       "    </tr>\n",
       "    <tr>\n",
       "      <th>110k-119k</th>\n",
       "      <td>195</td>\n",
       "    </tr>\n",
       "    <tr>\n",
       "      <th>120k-130k</th>\n",
       "      <td>24</td>\n",
       "    </tr>\n",
       "  </tbody>\n",
       "</table>\n",
       "</div>"
      ],
      "text/plain": [
       "            count\n",
       "range            \n",
       "40k-49k    158465\n",
       "50k-59k     57915\n",
       "60k-69k     41413\n",
       "70k-79k     24814\n",
       "80k-89k     11845\n",
       "90k-99k      4284\n",
       "100k-109k    1069\n",
       "110k-119k     195\n",
       "120k-130k      24"
      ]
     },
     "execution_count": 14,
     "metadata": {},
     "output_type": "execute_result"
    }
   ],
   "source": [
    "salaries_count_df"
   ]
  },
  {
   "cell_type": "code",
   "execution_count": 15,
   "metadata": {},
   "outputs": [],
   "source": [
    "# print(plt.style.available)"
   ]
  },
  {
   "cell_type": "code",
   "execution_count": 18,
   "metadata": {},
   "outputs": [
    {
     "data": {
      "image/png": "[encoded data removed]",
      "text/plain": [
       "<Figure size 720x432 with 1 Axes>"
      ]
     },
     "metadata": {},
     "output_type": "display_data"
    }
   ],
   "source": [
    " # Draw a bar chart\n",
    "ax = salaries_count_df.plot(kind=\"bar\",color = 'green',alpha=0.5, align=\"center\", legend = False,ylim=(0,170000), figsize=[10,6])\n",
    "\n",
    "plt.style.use('Solarize_Light2')\n",
    "\n",
    "# formatted title \n",
    "plt.title ('Most common salary ranges for employees - Chart')\n",
    "\n",
    "for p in ax.patches:\n",
    "    label_position = p.get_height()/1.02\n",
    "    \n",
    "    ax.annotate(format(p.get_height(), '.0f'), \n",
    "                   (p.get_x() + p.get_width() / 2., label_position), \n",
    "                   ha = 'center', va = 'center', \n",
    "                   xytext = (0,12),\n",
    "                   textcoords = 'offset points')\n",
    "plt.ylabel('Amount of salaries per range')\n",
    "plt.xlabel('Salary Range')\n",
    "plt.savefig('../sql-challenge/Images/SalaryPerRangeChart.png')\n",
    "plt.show()\n",
    "\n",
    "\n"
   ]
  },
  {
   "cell_type": "code",
   "execution_count": null,
   "metadata": {},
   "outputs": [],
   "source": []
  }
 ],
 "metadata": {
  "anaconda-cloud": {},
  "kernelspec": {
   "display_name": "Python 3",
   "language": "python",
   "name": "python3"
  },
  "language_info": {
   "codemirror_mode": {
    "name": "ipython",
    "version": 3
   },
   "file_extension": ".py",
   "mimetype": "text/x-python",
   "name": "python",
   "nbconvert_exporter": "python",
   "pygments_lexer": "ipython3",
   "version": "3.8.3"
  },
  "varInspector": {
   "cols": {
    "lenName": 16,
    "lenType": 16,
    "lenVar": 40
   },
   "kernels_config": {
    "python": {
     "delete_cmd_postfix": "",
     "delete_cmd_prefix": "del ",
     "library": "var_list.py",
     "varRefreshCmd": "print(var_dic_list())"
    },
    "r": {
     "delete_cmd_postfix": ") ",
     "delete_cmd_prefix": "rm(",
     "library": "var_list.r",
     "varRefreshCmd": "cat(var_dic_list()) "
    }
   },
   "types_to_exclude": [
    "module",
    "function",
    "builtin_function_or_method",
    "instance",
    "_Feature"
   ],
   "window_display": false
  }
 },
 "nbformat": 4,
 "nbformat_minor": 1
}
